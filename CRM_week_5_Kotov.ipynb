{
 "cells": [
  {
   "cell_type": "markdown",
   "metadata": {},
   "source": [
    "# Peer-graded Assignment: Эксперименты с моделью\n",
    "\n",
    "На прошлой неделе вы поучаствовали в соревновании на kaggle и, наверняка, большинство успешно справилось с прохождением baseline, а значит пора двигаться дальше - заняться оптимизацией модели, провести серию экспериментов и построить сильное финальное решения.\n",
    "\n",
    "В этом задании вам нужно провести ряд эскпериментов, оценить качество полученных в процессе экспериментирования моделей и выбрать лучшее решение. "
   ]
  },
  {
   "cell_type": "markdown",
   "metadata": {},
   "source": [
    "Задание будет оцениваться на основании загруженного jupyther notebook и развернутых ответов на поставленные вопросы."
   ]
  },
  {
   "cell_type": "markdown",
   "metadata": {},
   "source": [
    "## Инструкции"
   ]
  },
  {
   "cell_type": "markdown",
   "metadata": {},
   "source": [
    "1\\. Начнем с простого. Давайте оценим как много объектов действительно нужно для построения качественной модели. Для обучения доступна достаточно большая выборка и может так оказаться, что начиная с некоторого момента рост размера обучающей выборки перестает влиять на качество модели. Постройте кривые обучения, обучая модель на выборках разного размера начиная с небольшого количество объектов в обучающей выборке и постепенно наращивая её размер с некоторым шагом. Обратите внимание на `sklearn.model_selection.learning_curve`"
   ]
  },
  {
   "cell_type": "code",
   "execution_count": 210,
   "metadata": {},
   "outputs": [],
   "source": [
    "import pickle\n",
    "import pandas as pd\n",
    "import numpy as np\n",
    "import warnings\n",
    "\n",
    "from sklearn.model_selection import learning_curve\n",
    "from sklearn.model_selection import StratifiedShuffleSplit\n",
    "from sklearn.preprocessing import Imputer\n",
    "from sklearn.preprocessing import StandardScaler \n",
    "from sklearn.preprocessing import LabelEncoder\n",
    "\n",
    "from category_encoders.binary import BinaryEncoder\n",
    "from category_encoders.backward_difference import BackwardDifferenceEncoder\n",
    "from category_encoders.target_encoder import TargetEncoder\n",
    "from category_encoders.hashing import HashingEncoder\n",
    "\n",
    "from sklearn.svm import LinearSVC\n",
    "from sklearn.model_selection import validation_curve\n",
    "from sklearn.feature_selection import SelectFromModel\n",
    "from sklearn.model_selection import cross_val_score\n",
    "from sklearn.linear_model import LogisticRegression\n",
    "from sklearn.model_selection import GridSearchCV\n",
    "from sklearn.ensemble import ExtraTreesClassifier\n",
    "from itertools import product\n",
    "\n",
    "import seaborn as sns\n",
    "from matplotlib import pyplot as plt\n",
    "%matplotlib inline\n",
    "PATH_TO_DATA = r\"C:\\Users\\preductor\\Documents\\MachineLearning\\6_course\\Сhurn_prediction\\week_4\""
   ]
  },
  {
   "cell_type": "code",
   "execution_count": 211,
   "metadata": {},
   "outputs": [],
   "source": [
    "raw_data = pd.read_csv(PATH_TO_DATA+'\\orange_small_churn_train_data.csv', engine='python')\n",
    "with open(PATH_TO_DATA+'\\clf.pickle', 'rb') as f:\n",
    "     data_train, train_y, _, clf = pickle.load(f)"
   ]
  },
  {
   "cell_type": "code",
   "execution_count": 212,
   "metadata": {},
   "outputs": [],
   "source": [
    "result = learning_curve(clf, data_train, train_y, train_sizes=np.linspace(0.1,1.,10), \n",
    "              cv=StratifiedShuffleSplit(3), scoring='roc_auc', shuffle=True)"
   ]
  },
  {
   "cell_type": "code",
   "execution_count": 214,
   "metadata": {},
   "outputs": [
    {
     "data": {
      "text/plain": [
       "[<matplotlib.lines.Line2D at 0x1f184ef3a90>]"
      ]
     },
     "execution_count": 214,
     "metadata": {},
     "output_type": "execute_result"
    },
    {
     "data": {
      "image/png": "[encoded data removed]",
      "text/plain": [
       "<Figure size 432x288 with 1 Axes>"
      ]
     },
     "metadata": {},
     "output_type": "display_data"
    }
   ],
   "source": [
    "plt.plot(result[0], np.mean(result[2], axis=1))\n",
    "plt.plot(result[0], np.mean(result[1], axis=1))"
   ]
  },
  {
   "cell_type": "markdown",
   "metadata": {},
   "source": [
    "<font color='green'>На обучающих данных в количестве от 20000 и выше сходимость заметно уменьшается</font>"
   ]
  },
  {
   "cell_type": "markdown",
   "metadata": {},
   "source": [
    "2\\. Часто несбалансированные по классам выборки приводят к различным проблемам при обучении моделей. Давайте попробуем по-разному обработать выборку, поиграть с распределением объектов по классам и сделать выводы о том, как соотношение классов влияет на качество модели."
   ]
  },
  {
   "cell_type": "markdown",
   "metadata": {},
   "source": [
    "2.1\\. Задайте веса объектам так, чтобы соотношение классов с учетом весов объектов изменилось. Попробуйте не менее трёх различных вариантов весов. Меняются ли результаты классификации? Как это сказывается на качестве модели? Какой вариант выглядит наиболее оптимальным с точки зрения качества?"
   ]
  },
  {
   "cell_type": "code",
   "execution_count": 219,
   "metadata": {},
   "outputs": [
    {
     "data": {
      "text/html": [
       "<div>\n",
       "<style scoped>\n",
       "    .dataframe tbody tr th:only-of-type {\n",
       "        vertical-align: middle;\n",
       "    }\n",
       "\n",
       "    .dataframe tbody tr th {\n",
       "        vertical-align: top;\n",
       "    }\n",
       "\n",
       "    .dataframe thead th {\n",
       "        text-align: right;\n",
       "    }\n",
       "</style>\n",
       "<table border=\"1\" class=\"dataframe\">\n",
       "  <thead>\n",
       "    <tr style=\"text-align: right;\">\n",
       "      <th></th>\n",
       "      <th>type</th>\n",
       "      <th>result</th>\n",
       "    </tr>\n",
       "  </thead>\n",
       "  <tbody>\n",
       "    <tr>\n",
       "      <th>0</th>\n",
       "      <td>ones</td>\n",
       "      <td>0.674952</td>\n",
       "    </tr>\n",
       "    <tr>\n",
       "      <th>1</th>\n",
       "      <td>balanced</td>\n",
       "      <td>0.68284</td>\n",
       "    </tr>\n",
       "    <tr>\n",
       "      <th>2</th>\n",
       "      <td>random</td>\n",
       "      <td>0.536049</td>\n",
       "    </tr>\n",
       "  </tbody>\n",
       "</table>\n",
       "</div>"
      ],
      "text/plain": [
       "       type    result\n",
       "0      ones  0.674952\n",
       "1  balanced   0.68284\n",
       "2    random  0.536049"
      ]
     },
     "execution_count": 219,
     "metadata": {},
     "output_type": "execute_result"
    }
   ],
   "source": [
    "results = pd.DataFrame(index=range(3), columns=['type','result'])\n",
    "# 1. все веса единицы\n",
    "results.loc[0, 'type'] = 'ones'\n",
    "results.loc[0, 'result'] = np.mean(cross_val_score(LogisticRegression(),\n",
    "            data_train, train_y, cv=StratifiedShuffleSplit(3), scoring='roc_auc'))\n",
    "# 2. веса пропорциональны частоте классов \n",
    "results.loc[1, 'type'] = 'balanced'\n",
    "results.loc[1, 'result'] = np.mean(cross_val_score(LogisticRegression(class_weight='balanced'),\n",
    "            data_train, train_y, cv=StratifiedShuffleSplit(3), scoring='roc_auc'))\n",
    "# 3 рандомный выбор весов, просто, чтоб оценить качество модели при очевидно бессмысленном подходе\n",
    "results.loc[2, 'type'] = 'random'\n",
    "results.loc[2, 'result'] = np.mean(cross_val_score(LogisticRegression(),\n",
    "    data_train, train_y, fit_params={'sample_weight': np.random.randn(data_train.shape[0])},\n",
    "                        cv=StratifiedShuffleSplit(3), scoring='roc_auc'))\n",
    "results"
   ]
  },
  {
   "cell_type": "markdown",
   "metadata": {},
   "source": [
    "<font color='green'>balanced выглядит разумным вариантом</font>"
   ]
  },
  {
   "cell_type": "markdown",
   "metadata": {},
   "source": [
    "2.2\\. Примените к выборке технологию undersampling: для этого нужно убрать из обучения некоторое количество объектов большего класса таким образом, чтобы соотношение классов изменилось. Попробуйте не менее трёх различных вариантов undersampling (варианты могут отличаться как по количество отфильтрованных объектов, так и по принципу выборка объектов для отсеивания из выборки). Меняются ли результаты классификации? Как это сказывается на качестве модели? Какой вариант выглядит наиболее оптимальным с точки зрения качества?"
   ]
  },
  {
   "cell_type": "code",
   "execution_count": 220,
   "metadata": {},
   "outputs": [
    {
     "data": {
      "text/plain": [
       "[<matplotlib.lines.Line2D at 0x1f18ff41320>]"
      ]
     },
     "execution_count": 220,
     "metadata": {},
     "output_type": "execute_result"
    },
    {
     "data": {
      "image/png": "[encoded data removed]",
      "text/plain": [
       "<Figure size 432x288 with 1 Axes>"
      ]
     },
     "metadata": {},
     "output_type": "display_data"
    }
   ],
   "source": [
    "data = pd.concat([data_train, train_y], axis=1)\n",
    "train_non_churn = data[data.y==-1]\n",
    "train_churn = data[data.y==1]\n",
    "\n",
    "results = pd.DataFrame(index=range(10), columns=['number', 'result'])\n",
    "\n",
    "for ind,i in enumerate(np.linspace(train_churn.shape[0], train_non_churn.shape[0], 10)):\n",
    "    idxes = np.random.choice(train_non_churn.index, int(i))\n",
    "    undersampled = pd.concat([train_churn, train_non_churn.loc[idxes, :]], axis=0)\n",
    "    result = np.mean(cross_val_score(LogisticRegression(), undersampled.drop(columns='y'), undersampled.y, scoring='roc_auc',\n",
    "                   cv=StratifiedShuffleSplit(3)))\n",
    "    results.loc[ind,'number'] = int(i)\n",
    "    results.loc[ind,'result'] = result\n",
    "plt.xlabel('размер non_churn в выборке')\n",
    "plt.plot(results.number, results.result)"
   ]
  },
  {
   "cell_type": "markdown",
   "metadata": {},
   "source": [
    "<font color='green'>Вцелом для логистической регрессии похоже, что размер обучающей выборки не так важен как равенство классов в этой выборке</font>"
   ]
  },
  {
   "cell_type": "markdown",
   "metadata": {},
   "source": [
    "### <font color='green'>Третий и четвертый пункт были на предыдущей неделе, приведу необходимые этапы</font>"
   ]
  },
  {
   "cell_type": "markdown",
   "metadata": {},
   "source": [
    "#### Первым делом создам функцию отсеивающую признаки, в которых не определен заданный процент значений"
   ]
  },
  {
   "cell_type": "code",
   "execution_count": 6,
   "metadata": {},
   "outputs": [
    {
     "data": {
      "text/html": [
       "<div>\n",
       "<style scoped>\n",
       "    .dataframe tbody tr th:only-of-type {\n",
       "        vertical-align: middle;\n",
       "    }\n",
       "\n",
       "    .dataframe tbody tr th {\n",
       "        vertical-align: top;\n",
       "    }\n",
       "\n",
       "    .dataframe thead th {\n",
       "        text-align: right;\n",
       "    }\n",
       "</style>\n",
       "<table border=\"1\" class=\"dataframe\">\n",
       "  <thead>\n",
       "    <tr style=\"text-align: right;\">\n",
       "      <th></th>\n",
       "      <th>nans</th>\n",
       "    </tr>\n",
       "  </thead>\n",
       "  <tbody>\n",
       "    <tr>\n",
       "      <th>Var52</th>\n",
       "      <td>100</td>\n",
       "    </tr>\n",
       "    <tr>\n",
       "      <th>Var141</th>\n",
       "      <td>100</td>\n",
       "    </tr>\n",
       "    <tr>\n",
       "      <th>Var55</th>\n",
       "      <td>100</td>\n",
       "    </tr>\n",
       "  </tbody>\n",
       "</table>\n",
       "</div>"
      ],
      "text/plain": [
       "       nans\n",
       "Var52   100\n",
       "Var141  100\n",
       "Var55   100"
      ]
     },
     "execution_count": 6,
     "metadata": {},
     "output_type": "execute_result"
    }
   ],
   "source": [
    "\n",
    "table_of_nan = pd.DataFrame(index = raw_data.columns, columns=['nans'])\n",
    "for col in raw_data.columns:\n",
    "    table_of_nan.loc[col,'nans'] = round((raw_data[col].isna().sum())/raw_data[col].shape[0]*100, 2)\n",
    "table_of_nan.sort_values(by='nans', ascending=False, inplace=True)\n",
    "table_of_nan.head(3)"
   ]
  },
  {
   "cell_type": "code",
   "execution_count": 7,
   "metadata": {},
   "outputs": [],
   "source": [
    "def filter_attr(data, percentage):\n",
    "    return data.loc[:,table_of_nan[table_of_nan.nans<percentage].index]"
   ]
  },
  {
   "cell_type": "markdown",
   "metadata": {},
   "source": [
    "#### Выделим вещественные и категориальные данные из отфильтрованных данных для дальнейшей обработки"
   ]
  },
  {
   "cell_type": "code",
   "execution_count": 8,
   "metadata": {},
   "outputs": [],
   "source": [
    "def type_processing(data):\n",
    "    num_cols = []\n",
    "    cat_cols = []\n",
    "    for col in data.drop(columns=['ID','labels']).columns:\n",
    "        if (int(str(col)[3:])<190):\n",
    "            num_cols.append(col)\n",
    "        else:\n",
    "            cat_cols.append(col)\n",
    "    return data.loc[:,num_cols], data.loc[:,cat_cols]"
   ]
  },
  {
   "cell_type": "markdown",
   "metadata": {},
   "source": [
    "#### Начну с вещественных данных, к которым применю imputer с заданным типом наполнения Nan значений,  а затем стандартизирую"
   ]
  },
  {
   "cell_type": "code",
   "execution_count": 9,
   "metadata": {},
   "outputs": [],
   "source": [
    "def num_processing(X_num, strategy):\n",
    "    imp = Imputer(strategy=strategy, axis=0)\n",
    "    X_num_imputed = imp.fit_transform(X_num)\n",
    "    return pd.DataFrame(data=StandardScaler().fit_transform(X_num_imputed), index=X_num.index,\n",
    "                         columns=X_num.columns)"
   ]
  },
  {
   "cell_type": "markdown",
   "metadata": {},
   "source": [
    "#### К категориальным применю разные подходы"
   ]
  },
  {
   "cell_type": "code",
   "execution_count": 60,
   "metadata": {},
   "outputs": [
    {
     "data": {
      "text/html": [
       "<div>\n",
       "<style scoped>\n",
       "    .dataframe tbody tr th:only-of-type {\n",
       "        vertical-align: middle;\n",
       "    }\n",
       "\n",
       "    .dataframe tbody tr th {\n",
       "        vertical-align: top;\n",
       "    }\n",
       "\n",
       "    .dataframe thead th {\n",
       "        text-align: right;\n",
       "    }\n",
       "</style>\n",
       "<table border=\"1\" class=\"dataframe\">\n",
       "  <thead>\n",
       "    <tr style=\"text-align: right;\">\n",
       "      <th></th>\n",
       "      <th>amount</th>\n",
       "    </tr>\n",
       "  </thead>\n",
       "  <tbody>\n",
       "    <tr>\n",
       "      <th>Var230</th>\n",
       "      <td>1</td>\n",
       "    </tr>\n",
       "    <tr>\n",
       "      <th>Var209</th>\n",
       "      <td>1</td>\n",
       "    </tr>\n",
       "    <tr>\n",
       "      <th>Var191</th>\n",
       "      <td>2</td>\n",
       "    </tr>\n",
       "  </tbody>\n",
       "</table>\n",
       "</div>"
      ],
      "text/plain": [
       "        amount\n",
       "Var230       1\n",
       "Var209       1\n",
       "Var191       2"
      ]
     },
     "execution_count": 60,
     "metadata": {},
     "output_type": "execute_result"
    }
   ],
   "source": [
    "#таблица количества уникальных значений кат.признаков\n",
    "number_of_unique = pd.DataFrame(index=raw_data.iloc[:,190:-1].columns, columns=['amount'])\n",
    "for col in number_of_unique.index:\n",
    "    number_of_unique.loc[col,'amount'] = raw_data.loc[:,col].unique().shape[0]\n",
    "number_of_unique.sort_values(by='amount', inplace=True)\n",
    "number_of_unique.head(3)"
   ]
  },
  {
   "cell_type": "code",
   "execution_count": 107,
   "metadata": {},
   "outputs": [],
   "source": [
    "# В первом случае просто выкину все признаки у которых уникальных значений больше 10 \n",
    "# и применю OneHotEncoding к оставшимся\n",
    "def cat_1(X_cat):\n",
    "    num_uni = number_of_unique.loc[X_cat.columns, :]\n",
    "    return pd.get_dummies(X_cat.loc[:, num_uni[num_uni.amount<10].index])        \n",
    "\n",
    "\n",
    "# Во втором - оставлю еще и те признаки,\n",
    "# уникальных значений в которых меньше 50 и применю к ним LabelEncoder\n",
    "def cat_2(X_cat):\n",
    "\n",
    "    num_uni = number_of_unique.loc[X_cat.columns, :]\n",
    "    X_cat_less_10 = pd.get_dummies(X_cat.loc[:, num_uni[num_uni.amount<10].index])\n",
    "    X_cat_labelen = X_cat.loc[:, num_uni[50>num_uni.amount]\n",
    "                              [num_uni.amount>=10].index].astype('str') \\\n",
    "                                    .apply(LabelEncoder().fit_transform)\n",
    "    return pd.concat([X_cat_less_10, X_cat_labelen], axis=1)\n",
    "  \n",
    "# по умолчанию вобще никакой предобработки"
   ]
  },
  {
   "cell_type": "markdown",
   "metadata": {},
   "source": [
    "#### Сборка всего вышеперечисленного"
   ]
  },
  {
   "cell_type": "code",
   "execution_count": 67,
   "metadata": {},
   "outputs": [],
   "source": [
    "def assemble(data, percentage, strategy, num_of_cat_preprocessing=3):\n",
    "    data = filter_attr(data, percentage)\n",
    "    # ------------------------------------------\n",
    "    X_num, X_cat = type_processing(data)\n",
    "    X_num_pro = num_processing(X_num, strategy)\n",
    "    X_cat_pro = X_cat.astype('category')\n",
    "\n",
    "    if (num_of_cat_preprocessing==1):\n",
    "        X_cat_pro = cat_1(X_cat)\n",
    "    elif (num_of_cat_preprocessing==2):\n",
    "        X_cat_pro = cat_2(X_cat)\n",
    "        \n",
    "    data_pro = pd.concat([X_cat_pro, X_num_pro, data.labels], axis=1)\n",
    "    \n",
    "    return data_pro"
   ]
  },
  {
   "cell_type": "markdown",
   "metadata": {},
   "source": [
    "#### Функция для удобного теста "
   ]
  },
  {
   "cell_type": "code",
   "execution_count": 69,
   "metadata": {},
   "outputs": [],
   "source": [
    "def test(data, estimator, percentage, strategy='mean', num_of_cat_preprocessing=3):\n",
    "    parameters = list(product(percentage, strategy, num_of_cat_preprocessing))\n",
    "    results = pd.DataFrame(columns=['percentage', 'strategy', 'cat_processing', 'result'])\n",
    "    for idx,param in enumerate(parameters):\n",
    "        results.loc[idx, 'percentage'] = param[0]\n",
    "        results.loc[idx, 'strategy'] = param[1]\n",
    "        results.loc[idx, 'cat_processing'] = param[2]\n",
    "        \n",
    "        data_pro = assemble(data, param[0], param[1], param[2])\n",
    "        results.loc[idx, 'result'] = np.mean(cross_val_score(estimator,\n",
    "            data_pro.drop(columns='labels'), data_pro.labels, \n",
    "                cv=StratifiedShuffleSplit(3), scoring='roc_auc'))\n",
    "    return results"
   ]
  },
  {
   "cell_type": "markdown",
   "metadata": {},
   "source": [
    "#### <font color='green'>Под обработкой пропущенных значений я понимаю и удаление слишком разреженных признаков и заполнение Nan разными вариантами. Эстиматор все та же лучшая модель LightGBM из прошлой недели</font>"
   ]
  },
  {
   "cell_type": "code",
   "execution_count": 106,
   "metadata": {},
   "outputs": [],
   "source": [
    "percentage = [75, 90, 98, 100]\n",
    "strategy = ['mean', 'median', 'most_frequent']\n",
    "cat_processing = [1, 2, 3]"
   ]
  },
  {
   "cell_type": "code",
   "execution_count": 108,
   "metadata": {},
   "outputs": [],
   "source": [
    "warnings.simplefilter('ignore')\n",
    "results = test(raw_data, clf, percentage, strategy, cat_processing)"
   ]
  },
  {
   "cell_type": "code",
   "execution_count": 120,
   "metadata": {},
   "outputs": [],
   "source": [
    "temp = pd.DataFrame(index=range(10), columns=['parameter','mean'])\n",
    "num=0\n",
    "for i in percentage:\n",
    "    temp.loc[num,'parameter'] = 'percentage: '+str(i)\n",
    "    temp.loc[num,'mean'] = np.mean(results[results.percentage==i].result)\n",
    "    num+=1\n",
    "for i in strategy:\n",
    "    temp.loc[num,'parameter'] = 'strategy: '+str(i)\n",
    "    temp.loc[num,'mean'] = np.mean(results[results.strategy==i].result)\n",
    "    num+=1\n",
    "for i in cat_processing:\n",
    "    temp.loc[num,'parameter'] = 'cat_processing: '+str(i)\n",
    "    temp.loc[num,'mean'] = np.mean(results[results.cat_processing==i].result)\n",
    "    num+=1"
   ]
  },
  {
   "cell_type": "markdown",
   "metadata": {},
   "source": [
    "3\\. Теперь перейдем к работе с признаками. Ранее вы реализовали несколько стратегий для обработки пропущенных значений. Сравните эти стратегии между собой с помощью оценки качества моделей кросс-валидации, построенных на датасетах с использованием различных стратегий. Как обработка пропущенных значений сказывается на качестве модели? Какой вариант выглядит наиболее оптимальным с точки зрения качества?"
   ]
  },
  {
   "cell_type": "code",
   "execution_count": 116,
   "metadata": {},
   "outputs": [
    {
     "data": {
      "text/html": [
       "<div>\n",
       "<style scoped>\n",
       "    .dataframe tbody tr th:only-of-type {\n",
       "        vertical-align: middle;\n",
       "    }\n",
       "\n",
       "    .dataframe tbody tr th {\n",
       "        vertical-align: top;\n",
       "    }\n",
       "\n",
       "    .dataframe thead th {\n",
       "        text-align: right;\n",
       "    }\n",
       "</style>\n",
       "<table border=\"1\" class=\"dataframe\">\n",
       "  <thead>\n",
       "    <tr style=\"text-align: right;\">\n",
       "      <th></th>\n",
       "      <th>parameter</th>\n",
       "      <th>mean</th>\n",
       "    </tr>\n",
       "  </thead>\n",
       "  <tbody>\n",
       "    <tr>\n",
       "      <th>0</th>\n",
       "      <td>percentage: 75</td>\n",
       "      <td>0.72235</td>\n",
       "    </tr>\n",
       "    <tr>\n",
       "      <th>1</th>\n",
       "      <td>percentage: 90</td>\n",
       "      <td>0.722996</td>\n",
       "    </tr>\n",
       "    <tr>\n",
       "      <th>2</th>\n",
       "      <td>percentage: 98</td>\n",
       "      <td>0.716987</td>\n",
       "    </tr>\n",
       "    <tr>\n",
       "      <th>3</th>\n",
       "      <td>percentage: 100</td>\n",
       "      <td>0.720451</td>\n",
       "    </tr>\n",
       "  </tbody>\n",
       "</table>\n",
       "</div>"
      ],
      "text/plain": [
       "         parameter      mean\n",
       "0   percentage: 75   0.72235\n",
       "1   percentage: 90  0.722996\n",
       "2   percentage: 98  0.716987\n",
       "3  percentage: 100  0.720451"
      ]
     },
     "execution_count": 116,
     "metadata": {},
     "output_type": "execute_result"
    }
   ],
   "source": [
    "temp.iloc[:4]"
   ]
  },
  {
   "cell_type": "markdown",
   "metadata": {},
   "source": [
    "<font color='green'>Как видим фильтрация признаков с большим кол-вом Nan значений практически не влияет на качество работы модели</font>"
   ]
  },
  {
   "cell_type": "code",
   "execution_count": 117,
   "metadata": {},
   "outputs": [
    {
     "data": {
      "text/html": [
       "<div>\n",
       "<style scoped>\n",
       "    .dataframe tbody tr th:only-of-type {\n",
       "        vertical-align: middle;\n",
       "    }\n",
       "\n",
       "    .dataframe tbody tr th {\n",
       "        vertical-align: top;\n",
       "    }\n",
       "\n",
       "    .dataframe thead th {\n",
       "        text-align: right;\n",
       "    }\n",
       "</style>\n",
       "<table border=\"1\" class=\"dataframe\">\n",
       "  <thead>\n",
       "    <tr style=\"text-align: right;\">\n",
       "      <th></th>\n",
       "      <th>parameter</th>\n",
       "      <th>mean</th>\n",
       "    </tr>\n",
       "  </thead>\n",
       "  <tbody>\n",
       "    <tr>\n",
       "      <th>4</th>\n",
       "      <td>strategy: mean</td>\n",
       "      <td>0.729464</td>\n",
       "    </tr>\n",
       "    <tr>\n",
       "      <th>5</th>\n",
       "      <td>strategy: median</td>\n",
       "      <td>0.713941</td>\n",
       "    </tr>\n",
       "    <tr>\n",
       "      <th>6</th>\n",
       "      <td>strategy: most_frequent</td>\n",
       "      <td>0.718683</td>\n",
       "    </tr>\n",
       "  </tbody>\n",
       "</table>\n",
       "</div>"
      ],
      "text/plain": [
       "                 parameter      mean\n",
       "4           strategy: mean  0.729464\n",
       "5         strategy: median  0.713941\n",
       "6  strategy: most_frequent  0.718683"
      ]
     },
     "execution_count": 117,
     "metadata": {},
     "output_type": "execute_result"
    }
   ],
   "source": [
    "temp.iloc[4:7]"
   ]
  },
  {
   "cell_type": "markdown",
   "metadata": {},
   "source": [
    "<font color='green'>А заполнение пропусков средним, которое идет по умолчанию в imputer, выглядит как разумный вариант</font>"
   ]
  },
  {
   "cell_type": "markdown",
   "metadata": {},
   "source": [
    "4\\. Также вы уже реализовали несколько стратегий для обработки категориальных признаков. Сравните эти стратегии между собой с помощью оценки качества моделей по кросс-валидации, построенных на датасетах с использованием различных стратегий. Как обработка категориальных признаков сказывается на качестве модели? Какой вариант выглядит наиболее оптимальным с точки зрения качества?"
   ]
  },
  {
   "cell_type": "code",
   "execution_count": 119,
   "metadata": {},
   "outputs": [
    {
     "data": {
      "text/html": [
       "<div>\n",
       "<style scoped>\n",
       "    .dataframe tbody tr th:only-of-type {\n",
       "        vertical-align: middle;\n",
       "    }\n",
       "\n",
       "    .dataframe tbody tr th {\n",
       "        vertical-align: top;\n",
       "    }\n",
       "\n",
       "    .dataframe thead th {\n",
       "        text-align: right;\n",
       "    }\n",
       "</style>\n",
       "<table border=\"1\" class=\"dataframe\">\n",
       "  <thead>\n",
       "    <tr style=\"text-align: right;\">\n",
       "      <th></th>\n",
       "      <th>parameter</th>\n",
       "      <th>mean</th>\n",
       "    </tr>\n",
       "  </thead>\n",
       "  <tbody>\n",
       "    <tr>\n",
       "      <th>7</th>\n",
       "      <td>cat_processing: 1</td>\n",
       "      <td>0.734916</td>\n",
       "    </tr>\n",
       "    <tr>\n",
       "      <th>8</th>\n",
       "      <td>cat_processing: 2</td>\n",
       "      <td>0.735507</td>\n",
       "    </tr>\n",
       "    <tr>\n",
       "      <th>9</th>\n",
       "      <td>cat_processing: 3</td>\n",
       "      <td>0.691665</td>\n",
       "    </tr>\n",
       "  </tbody>\n",
       "</table>\n",
       "</div>"
      ],
      "text/plain": [
       "           parameter      mean\n",
       "7  cat_processing: 1  0.734916\n",
       "8  cat_processing: 2  0.735507\n",
       "9  cat_processing: 3  0.691665"
      ]
     },
     "execution_count": 119,
     "metadata": {},
     "output_type": "execute_result"
    }
   ],
   "source": [
    "temp.iloc[-3:]"
   ]
  },
  {
   "cell_type": "markdown",
   "metadata": {},
   "source": [
    "<font color='green'>LabelEncoder в связке с OneHotEncoding дают лучший результат для LightGBM модели, а вариант оставлять категориальные признаки без обработки выдает сильно худшие показатели. </font>"
   ]
  },
  {
   "cell_type": "markdown",
   "metadata": {},
   "source": [
    "5\\. Все ли признаки оказались полезными для построения моделей? Проведите процедуру отбора признаков, попробуйте разные варианты отбора (обратите внимание на модуль `sklearn.feature_selection`). Например, можно выбрасывать случайные признаки или строить отбор на основе l1-регуляризации - отфильтровать из обучения признаки, которые получат нулевой вес при построении регрессии с l1-регуляризацией (`sklearn.linear_model.Lasso`). И всегда можно придумать что-то своё=) Попробуйте как минимум 2 различные стратегии, сравните результаты. Помог ли отбор признаков улучшить качество модели? Поясните свой ответ."
   ]
  },
  {
   "cell_type": "markdown",
   "metadata": {},
   "source": [
    "<font color='green'>1)На случайном лесе это выглядит так</font>"
   ]
  },
  {
   "cell_type": "code",
   "execution_count": 171,
   "metadata": {},
   "outputs": [
    {
     "data": {
      "text/plain": [
       "(40000, 56)"
      ]
     },
     "execution_count": 171,
     "metadata": {},
     "output_type": "execute_result"
    }
   ],
   "source": [
    "clf_opt = ExtraTreesClassifier(n_estimators=50)\n",
    "clf_opt.fit(data_train, train_y)\n",
    "model = SelectFromModel(clf_opt, prefit=True)\n",
    "X_new = model.transform(data_train)\n",
    "X_new.shape"
   ]
  },
  {
   "cell_type": "markdown",
   "metadata": {},
   "source": [
    "<font color='green'>2)Посмотрим, как отработает Lasso. При помощи параметра C настраиваем сколько признаков останется в матрице</font>"
   ]
  },
  {
   "cell_type": "code",
   "execution_count": 154,
   "metadata": {},
   "outputs": [],
   "source": [
    "lsvc = LinearSVC(C=1., penalty=\"l1\", dual=False).fit(data_train, train_y)\n",
    "model = SelectFromModel(lsvc, prefit=True)"
   ]
  },
  {
   "cell_type": "code",
   "execution_count": 155,
   "metadata": {},
   "outputs": [
    {
     "data": {
      "text/plain": [
       "(40000, 205)"
      ]
     },
     "execution_count": 155,
     "metadata": {},
     "output_type": "execute_result"
    }
   ],
   "source": [
    "X_new = model.transform(data_train)\n",
    "X_new.shape"
   ]
  },
  {
   "cell_type": "markdown",
   "metadata": {},
   "source": [
    "6\\. Подберите оптимальные параметры модели. Обратите внимание, что в зависимости от того, как вы обработали исходные данные, сделали ли балансировку классов, сколько объектов оставили в обучающей выборке и др. оптимальные значения параметров могут меняться. Возьмите наилучшее из ваших решений на текущий момент и проведите процедуру подбора параметров модели (обратите внимание на `sklearn.model_selection.GridSearchCV`) Как подбор параметров повлиял на качество модели?"
   ]
  },
  {
   "cell_type": "code",
   "execution_count": 157,
   "metadata": {},
   "outputs": [],
   "source": [
    "param_grid ={\n",
    "    'num_leaves': [15, 30],\n",
    "    'reg_alpha': [0.01, 0.02],\n",
    "    'min_data_in_leaf': [30, 50],\n",
    "    'max_depth':[3, 5], \n",
    "    'silent':[True], \n",
    "    'metric':['auc'],                        \n",
    "    'n_estimators':[100, 200],\n",
    "    'colsample_bytree':[0.8],\n",
    "    'subsample':[0.7],\n",
    "    'learning_rate':[0.1, 0.2]\n",
    "    }\n",
    "fit_params = {\n",
    "#             \"early_stopping_rounds\":[10] \n",
    "            \"eval_metric\" : 'auc', \n",
    "#             \"eval_set\" : [(test_X,test_y)],\n",
    "            'eval_names': ['valid'],\n",
    "            'verbose': 100,\n",
    "            'feature_name': 'auto'\n",
    "            }"
   ]
  },
  {
   "cell_type": "code",
   "execution_count": 173,
   "metadata": {},
   "outputs": [
    {
     "name": "stderr",
     "output_type": "stream",
     "text": [
      "C:\\Users\\preductor\\AppData\\Local\\conda\\conda\\envs\\py3\\lib\\site-packages\\ipykernel_launcher.py:15: UserWarning: Boolean Series key will be reindexed to match DataFrame index.\n",
      "  from ipykernel import kernelapp as app\n"
     ]
    },
    {
     "name": "stdout",
     "output_type": "stream",
     "text": [
      "0.7337076397424696\n"
     ]
    },
    {
     "data": {
      "text/plain": [
       "{'colsample_bytree': 0.8,\n",
       " 'learning_rate': 0.1,\n",
       " 'max_depth': 3,\n",
       " 'metric': 'auc',\n",
       " 'min_data_in_leaf': 50,\n",
       " 'n_estimators': 100,\n",
       " 'num_leaves': 15,\n",
       " 'reg_alpha': 0.01,\n",
       " 'silent': True,\n",
       " 'subsample': 0.7}"
      ]
     },
     "execution_count": 173,
     "metadata": {},
     "output_type": "execute_result"
    }
   ],
   "source": [
    "gscv = GridSearchCV(clf, param_grid=param_grid, scoring='roc_auc', fit_params=fit_params, cv=StratifiedShuffleSplit(3))\n",
    "data_pro = assemble(raw_data, 100, 'mean', 2)\n",
    "gscv.fit(data_pro.drop(columns='labels'), data_pro.labels)\n",
    "print(gscv.best_score_)\n",
    "gscv.best_params_"
   ]
  },
  {
   "cell_type": "markdown",
   "metadata": {},
   "source": [
    "7\\. Предложите методику оценки того, какие признаки внесли наибольший вклад в модель (например, это могут быть веса в случае регрессии, а также большое количество моделей реализуют метод `feature_importances_` - оценка важности признаков). На основе предложенной методики проанализируйте, какие признаки внесли больший вклад в модель, а какие меньший?"
   ]
  },
  {
   "cell_type": "markdown",
   "metadata": {
    "collapsed": true
   },
   "source": [
    "<font color='green'>LightGBM имеет встроенную функцию feature_importances_ </font>"
   ]
  },
  {
   "cell_type": "code",
   "execution_count": 162,
   "metadata": {},
   "outputs": [],
   "source": [
    "importances = pd.DataFrame(index=range(data_train.shape[1]), columns=['feature','importance'])\n",
    "clf.fit(data_train, train_y)\n",
    "importances.importance = clf.feature_importances_\n",
    "importances.feature = data_train.columns\n",
    "importances.sort_values(by='importance', ascending=False, inplace=True)"
   ]
  },
  {
   "cell_type": "code",
   "execution_count": 144,
   "metadata": {},
   "outputs": [
    {
     "data": {
      "text/plain": [
       "<matplotlib.axes._subplots.AxesSubplot at 0x1f18fd8f2e8>"
      ]
     },
     "execution_count": 144,
     "metadata": {},
     "output_type": "execute_result"
    },
    {
     "data": {
      "image/png": "[encoded data removed]",
      "text/plain": [
       "<Figure size 1440x504 with 1 Axes>"
      ]
     },
     "metadata": {},
     "output_type": "display_data"
    }
   ],
   "source": [
    "plt.figure(figsize=(20,7))\n",
    "plt.rcParams.update({'font.size': 13})\n",
    "plt.xticks(rotation='vertical')\n",
    "sns.barplot(x='feature', y='importance', data=importances[importances.importance>0])"
   ]
  },
  {
   "cell_type": "markdown",
   "metadata": {},
   "source": [
    "8\\. Напоследок давайте посмотрим на объекты. На каких объектах достигается наибольшая ошибка классификации? Есть ли межу этими объектами что-то общее? Видны ли какие-либо закономерности? Предположите, почему наибольшая ошибка достигается именно на этих объектах. В данном случае \"наибольшую\" ошибку можно понимать как отнесение объекта с чужому классу с большой долей уверенности (с высокой вероятностью)."
   ]
  },
  {
   "cell_type": "code",
   "execution_count": 181,
   "metadata": {},
   "outputs": [],
   "source": [
    "best_model = gscv.best_estimator_\n",
    "proba = best_model.predict_proba(data_pro.drop(columns='labels'))\n",
    "proba_data = pd.DataFrame(index=range(data_pro.shape[0]),columns=['prob_1','prob_target','labels'])\n",
    "proba_data.prob_1 = np.squeeze(proba.T[0])\n",
    "proba_data.prob_target = np.squeeze(proba.T[1])\n",
    "proba_data.labels = data_pro.labels"
   ]
  },
  {
   "cell_type": "code",
   "execution_count": 198,
   "metadata": {},
   "outputs": [
    {
     "data": {
      "text/html": [
       "<div>\n",
       "<style scoped>\n",
       "    .dataframe tbody tr th:only-of-type {\n",
       "        vertical-align: middle;\n",
       "    }\n",
       "\n",
       "    .dataframe tbody tr th {\n",
       "        vertical-align: top;\n",
       "    }\n",
       "\n",
       "    .dataframe thead th {\n",
       "        text-align: right;\n",
       "    }\n",
       "</style>\n",
       "<table border=\"1\" class=\"dataframe\">\n",
       "  <thead>\n",
       "    <tr style=\"text-align: right;\">\n",
       "      <th></th>\n",
       "      <th>prob_1</th>\n",
       "      <th>prob_target</th>\n",
       "      <th>labels</th>\n",
       "    </tr>\n",
       "  </thead>\n",
       "  <tbody>\n",
       "    <tr>\n",
       "      <th>4309</th>\n",
       "      <td>0.991292</td>\n",
       "      <td>0.008708</td>\n",
       "      <td>1</td>\n",
       "    </tr>\n",
       "    <tr>\n",
       "      <th>29190</th>\n",
       "      <td>0.991058</td>\n",
       "      <td>0.008942</td>\n",
       "      <td>1</td>\n",
       "    </tr>\n",
       "    <tr>\n",
       "      <th>15321</th>\n",
       "      <td>0.990526</td>\n",
       "      <td>0.009474</td>\n",
       "      <td>1</td>\n",
       "    </tr>\n",
       "  </tbody>\n",
       "</table>\n",
       "</div>"
      ],
      "text/plain": [
       "         prob_1  prob_target  labels\n",
       "4309   0.991292     0.008708       1\n",
       "29190  0.991058     0.008942       1\n",
       "15321  0.990526     0.009474       1"
      ]
     },
     "execution_count": 198,
     "metadata": {},
     "output_type": "execute_result"
    }
   ],
   "source": [
    "# самая большая ошибка первого рода\n",
    "temp_1 = proba_data[proba_data.labels==1]\n",
    "temp_1.sort_values(by='prob_target').head(3)"
   ]
  },
  {
   "cell_type": "markdown",
   "metadata": {},
   "source": [
    "<font color='green'>Выведем три с самой большой ошибкой и три с минимальной</font>"
   ]
  },
  {
   "cell_type": "code",
   "execution_count": 201,
   "metadata": {},
   "outputs": [
    {
     "data": {
      "text/html": [
       "<div>\n",
       "<style scoped>\n",
       "    .dataframe tbody tr th:only-of-type {\n",
       "        vertical-align: middle;\n",
       "    }\n",
       "\n",
       "    .dataframe tbody tr th {\n",
       "        vertical-align: top;\n",
       "    }\n",
       "\n",
       "    .dataframe thead th {\n",
       "        text-align: right;\n",
       "    }\n",
       "</style>\n",
       "<table border=\"1\" class=\"dataframe\">\n",
       "  <thead>\n",
       "    <tr style=\"text-align: right;\">\n",
       "      <th></th>\n",
       "      <th>ID</th>\n",
       "      <th>Var1</th>\n",
       "      <th>Var2</th>\n",
       "      <th>Var3</th>\n",
       "      <th>Var4</th>\n",
       "      <th>Var5</th>\n",
       "      <th>Var6</th>\n",
       "      <th>Var7</th>\n",
       "      <th>Var8</th>\n",
       "      <th>Var9</th>\n",
       "      <th>...</th>\n",
       "      <th>Var222</th>\n",
       "      <th>Var223</th>\n",
       "      <th>Var224</th>\n",
       "      <th>Var225</th>\n",
       "      <th>Var226</th>\n",
       "      <th>Var227</th>\n",
       "      <th>Var228</th>\n",
       "      <th>Var229</th>\n",
       "      <th>Var230</th>\n",
       "      <th>labels</th>\n",
       "    </tr>\n",
       "  </thead>\n",
       "  <tbody>\n",
       "    <tr>\n",
       "      <th>4309</th>\n",
       "      <td>4309</td>\n",
       "      <td>NaN</td>\n",
       "      <td>NaN</td>\n",
       "      <td>NaN</td>\n",
       "      <td>NaN</td>\n",
       "      <td>NaN</td>\n",
       "      <td>1246.0</td>\n",
       "      <td>7.0</td>\n",
       "      <td>NaN</td>\n",
       "      <td>NaN</td>\n",
       "      <td>...</td>\n",
       "      <td>catzS2D</td>\n",
       "      <td>LM8l689qOp</td>\n",
       "      <td>NaN</td>\n",
       "      <td>ELof</td>\n",
       "      <td>Xa3G</td>\n",
       "      <td>ZI9m</td>\n",
       "      <td>TCU50_Yjmm6GIBZ0lL_</td>\n",
       "      <td>am7c</td>\n",
       "      <td>NaN</td>\n",
       "      <td>1</td>\n",
       "    </tr>\n",
       "    <tr>\n",
       "      <th>29190</th>\n",
       "      <td>29190</td>\n",
       "      <td>NaN</td>\n",
       "      <td>NaN</td>\n",
       "      <td>NaN</td>\n",
       "      <td>NaN</td>\n",
       "      <td>NaN</td>\n",
       "      <td>1253.0</td>\n",
       "      <td>21.0</td>\n",
       "      <td>NaN</td>\n",
       "      <td>NaN</td>\n",
       "      <td>...</td>\n",
       "      <td>P6pu4Vl</td>\n",
       "      <td>LM8l689qOp</td>\n",
       "      <td>NaN</td>\n",
       "      <td>ELof</td>\n",
       "      <td>453m</td>\n",
       "      <td>ZI9m</td>\n",
       "      <td>R4y5gQQWY8OodqDV</td>\n",
       "      <td>am7c</td>\n",
       "      <td>NaN</td>\n",
       "      <td>1</td>\n",
       "    </tr>\n",
       "    <tr>\n",
       "      <th>15321</th>\n",
       "      <td>15321</td>\n",
       "      <td>NaN</td>\n",
       "      <td>NaN</td>\n",
       "      <td>NaN</td>\n",
       "      <td>NaN</td>\n",
       "      <td>NaN</td>\n",
       "      <td>553.0</td>\n",
       "      <td>7.0</td>\n",
       "      <td>NaN</td>\n",
       "      <td>NaN</td>\n",
       "      <td>...</td>\n",
       "      <td>APgdzOv</td>\n",
       "      <td>LM8l689qOp</td>\n",
       "      <td>NaN</td>\n",
       "      <td>xG3x</td>\n",
       "      <td>fKCe</td>\n",
       "      <td>6fzt</td>\n",
       "      <td>Zy3gnGM</td>\n",
       "      <td>am7c</td>\n",
       "      <td>NaN</td>\n",
       "      <td>1</td>\n",
       "    </tr>\n",
       "    <tr>\n",
       "      <th>26798</th>\n",
       "      <td>26798</td>\n",
       "      <td>NaN</td>\n",
       "      <td>NaN</td>\n",
       "      <td>NaN</td>\n",
       "      <td>NaN</td>\n",
       "      <td>NaN</td>\n",
       "      <td>413.0</td>\n",
       "      <td>7.0</td>\n",
       "      <td>NaN</td>\n",
       "      <td>NaN</td>\n",
       "      <td>...</td>\n",
       "      <td>X86AgOW</td>\n",
       "      <td>LM8l689qOp</td>\n",
       "      <td>NaN</td>\n",
       "      <td>NaN</td>\n",
       "      <td>3Cy4</td>\n",
       "      <td>RAYp</td>\n",
       "      <td>F2FyR07IdsN7I</td>\n",
       "      <td>NaN</td>\n",
       "      <td>NaN</td>\n",
       "      <td>1</td>\n",
       "    </tr>\n",
       "    <tr>\n",
       "      <th>9806</th>\n",
       "      <td>9806</td>\n",
       "      <td>NaN</td>\n",
       "      <td>NaN</td>\n",
       "      <td>NaN</td>\n",
       "      <td>NaN</td>\n",
       "      <td>NaN</td>\n",
       "      <td>1365.0</td>\n",
       "      <td>7.0</td>\n",
       "      <td>NaN</td>\n",
       "      <td>NaN</td>\n",
       "      <td>...</td>\n",
       "      <td>PyFH7Cg</td>\n",
       "      <td>LM8l689qOp</td>\n",
       "      <td>NaN</td>\n",
       "      <td>NaN</td>\n",
       "      <td>7P5s</td>\n",
       "      <td>RAYp</td>\n",
       "      <td>F2FyR07IdsN7I</td>\n",
       "      <td>NaN</td>\n",
       "      <td>NaN</td>\n",
       "      <td>1</td>\n",
       "    </tr>\n",
       "    <tr>\n",
       "      <th>38041</th>\n",
       "      <td>38041</td>\n",
       "      <td>NaN</td>\n",
       "      <td>NaN</td>\n",
       "      <td>NaN</td>\n",
       "      <td>NaN</td>\n",
       "      <td>NaN</td>\n",
       "      <td>504.0</td>\n",
       "      <td>0.0</td>\n",
       "      <td>NaN</td>\n",
       "      <td>NaN</td>\n",
       "      <td>...</td>\n",
       "      <td>yOuy5oW</td>\n",
       "      <td>LM8l689qOp</td>\n",
       "      <td>NaN</td>\n",
       "      <td>NaN</td>\n",
       "      <td>453m</td>\n",
       "      <td>RAYp</td>\n",
       "      <td>F2FyR07IdsN7I</td>\n",
       "      <td>NaN</td>\n",
       "      <td>NaN</td>\n",
       "      <td>1</td>\n",
       "    </tr>\n",
       "  </tbody>\n",
       "</table>\n",
       "<p>6 rows × 232 columns</p>\n",
       "</div>"
      ],
      "text/plain": [
       "          ID  Var1  Var2  Var3  Var4  Var5    Var6  Var7  Var8  Var9   ...    \\\n",
       "4309    4309   NaN   NaN   NaN   NaN   NaN  1246.0   7.0   NaN   NaN   ...     \n",
       "29190  29190   NaN   NaN   NaN   NaN   NaN  1253.0  21.0   NaN   NaN   ...     \n",
       "15321  15321   NaN   NaN   NaN   NaN   NaN   553.0   7.0   NaN   NaN   ...     \n",
       "26798  26798   NaN   NaN   NaN   NaN   NaN   413.0   7.0   NaN   NaN   ...     \n",
       "9806    9806   NaN   NaN   NaN   NaN   NaN  1365.0   7.0   NaN   NaN   ...     \n",
       "38041  38041   NaN   NaN   NaN   NaN   NaN   504.0   0.0   NaN   NaN   ...     \n",
       "\n",
       "        Var222      Var223  Var224  Var225  Var226  Var227  \\\n",
       "4309   catzS2D  LM8l689qOp     NaN    ELof    Xa3G    ZI9m   \n",
       "29190  P6pu4Vl  LM8l689qOp     NaN    ELof    453m    ZI9m   \n",
       "15321  APgdzOv  LM8l689qOp     NaN    xG3x    fKCe    6fzt   \n",
       "26798  X86AgOW  LM8l689qOp     NaN     NaN    3Cy4    RAYp   \n",
       "9806   PyFH7Cg  LM8l689qOp     NaN     NaN    7P5s    RAYp   \n",
       "38041  yOuy5oW  LM8l689qOp     NaN     NaN    453m    RAYp   \n",
       "\n",
       "                    Var228  Var229  Var230  labels  \n",
       "4309   TCU50_Yjmm6GIBZ0lL_    am7c     NaN       1  \n",
       "29190     R4y5gQQWY8OodqDV    am7c     NaN       1  \n",
       "15321              Zy3gnGM    am7c     NaN       1  \n",
       "26798        F2FyR07IdsN7I     NaN     NaN       1  \n",
       "9806         F2FyR07IdsN7I     NaN     NaN       1  \n",
       "38041        F2FyR07IdsN7I     NaN     NaN       1  \n",
       "\n",
       "[6 rows x 232 columns]"
      ]
     },
     "execution_count": 201,
     "metadata": {},
     "output_type": "execute_result"
    }
   ],
   "source": [
    "raw_data.loc[temp_1.sort_values(by='prob_target').index[:3].append(temp_1.sort_values(by='prob_target', ascending=False).index[:3]), :]"
   ]
  },
  {
   "cell_type": "code",
   "execution_count": 199,
   "metadata": {},
   "outputs": [
    {
     "data": {
      "text/html": [
       "<div>\n",
       "<style scoped>\n",
       "    .dataframe tbody tr th:only-of-type {\n",
       "        vertical-align: middle;\n",
       "    }\n",
       "\n",
       "    .dataframe tbody tr th {\n",
       "        vertical-align: top;\n",
       "    }\n",
       "\n",
       "    .dataframe thead th {\n",
       "        text-align: right;\n",
       "    }\n",
       "</style>\n",
       "<table border=\"1\" class=\"dataframe\">\n",
       "  <thead>\n",
       "    <tr style=\"text-align: right;\">\n",
       "      <th></th>\n",
       "      <th>prob_1</th>\n",
       "      <th>prob_target</th>\n",
       "      <th>labels</th>\n",
       "    </tr>\n",
       "  </thead>\n",
       "  <tbody>\n",
       "    <tr>\n",
       "      <th>35441</th>\n",
       "      <td>0.483609</td>\n",
       "      <td>0.516391</td>\n",
       "      <td>-1</td>\n",
       "    </tr>\n",
       "    <tr>\n",
       "      <th>22640</th>\n",
       "      <td>0.488298</td>\n",
       "      <td>0.511702</td>\n",
       "      <td>-1</td>\n",
       "    </tr>\n",
       "    <tr>\n",
       "      <th>9118</th>\n",
       "      <td>0.502943</td>\n",
       "      <td>0.497057</td>\n",
       "      <td>-1</td>\n",
       "    </tr>\n",
       "  </tbody>\n",
       "</table>\n",
       "</div>"
      ],
      "text/plain": [
       "         prob_1  prob_target  labels\n",
       "35441  0.483609     0.516391      -1\n",
       "22640  0.488298     0.511702      -1\n",
       "9118   0.502943     0.497057      -1"
      ]
     },
     "execution_count": 199,
     "metadata": {},
     "output_type": "execute_result"
    }
   ],
   "source": [
    "# самая большая ошибка второго рода\n",
    "temp_2 = proba_data[proba_data.labels==-1]\n",
    "temp_2.sort_values(by='prob_target', ascending=False).head(3)"
   ]
  },
  {
   "cell_type": "markdown",
   "metadata": {},
   "source": [
    "<font color='green'>Выведем три с самой большой ошибкой и три с минимальной</font>"
   ]
  },
  {
   "cell_type": "code",
   "execution_count": 202,
   "metadata": {},
   "outputs": [
    {
     "data": {
      "text/html": [
       "<div>\n",
       "<style scoped>\n",
       "    .dataframe tbody tr th:only-of-type {\n",
       "        vertical-align: middle;\n",
       "    }\n",
       "\n",
       "    .dataframe tbody tr th {\n",
       "        vertical-align: top;\n",
       "    }\n",
       "\n",
       "    .dataframe thead th {\n",
       "        text-align: right;\n",
       "    }\n",
       "</style>\n",
       "<table border=\"1\" class=\"dataframe\">\n",
       "  <thead>\n",
       "    <tr style=\"text-align: right;\">\n",
       "      <th></th>\n",
       "      <th>ID</th>\n",
       "      <th>Var1</th>\n",
       "      <th>Var2</th>\n",
       "      <th>Var3</th>\n",
       "      <th>Var4</th>\n",
       "      <th>Var5</th>\n",
       "      <th>Var6</th>\n",
       "      <th>Var7</th>\n",
       "      <th>Var8</th>\n",
       "      <th>Var9</th>\n",
       "      <th>...</th>\n",
       "      <th>Var222</th>\n",
       "      <th>Var223</th>\n",
       "      <th>Var224</th>\n",
       "      <th>Var225</th>\n",
       "      <th>Var226</th>\n",
       "      <th>Var227</th>\n",
       "      <th>Var228</th>\n",
       "      <th>Var229</th>\n",
       "      <th>Var230</th>\n",
       "      <th>labels</th>\n",
       "    </tr>\n",
       "  </thead>\n",
       "  <tbody>\n",
       "    <tr>\n",
       "      <th>35441</th>\n",
       "      <td>35441</td>\n",
       "      <td>NaN</td>\n",
       "      <td>NaN</td>\n",
       "      <td>NaN</td>\n",
       "      <td>NaN</td>\n",
       "      <td>NaN</td>\n",
       "      <td>826.0</td>\n",
       "      <td>0.0</td>\n",
       "      <td>NaN</td>\n",
       "      <td>NaN</td>\n",
       "      <td>...</td>\n",
       "      <td>93cqqb8</td>\n",
       "      <td>LM8l689qOp</td>\n",
       "      <td>NaN</td>\n",
       "      <td>NaN</td>\n",
       "      <td>Aoh3</td>\n",
       "      <td>RAYp</td>\n",
       "      <td>F2FyR07IdsN7I</td>\n",
       "      <td>NaN</td>\n",
       "      <td>NaN</td>\n",
       "      <td>-1</td>\n",
       "    </tr>\n",
       "    <tr>\n",
       "      <th>22640</th>\n",
       "      <td>22640</td>\n",
       "      <td>NaN</td>\n",
       "      <td>NaN</td>\n",
       "      <td>NaN</td>\n",
       "      <td>NaN</td>\n",
       "      <td>NaN</td>\n",
       "      <td>602.0</td>\n",
       "      <td>0.0</td>\n",
       "      <td>NaN</td>\n",
       "      <td>NaN</td>\n",
       "      <td>...</td>\n",
       "      <td>hW4EVJ2</td>\n",
       "      <td>LM8l689qOp</td>\n",
       "      <td>NaN</td>\n",
       "      <td>NaN</td>\n",
       "      <td>xb3V</td>\n",
       "      <td>RAYp</td>\n",
       "      <td>F2FyR07IdsN7I</td>\n",
       "      <td>NaN</td>\n",
       "      <td>NaN</td>\n",
       "      <td>-1</td>\n",
       "    </tr>\n",
       "    <tr>\n",
       "      <th>9118</th>\n",
       "      <td>9118</td>\n",
       "      <td>NaN</td>\n",
       "      <td>NaN</td>\n",
       "      <td>NaN</td>\n",
       "      <td>NaN</td>\n",
       "      <td>NaN</td>\n",
       "      <td>175.0</td>\n",
       "      <td>0.0</td>\n",
       "      <td>NaN</td>\n",
       "      <td>NaN</td>\n",
       "      <td>...</td>\n",
       "      <td>QkgQQMs</td>\n",
       "      <td>LM8l689qOp</td>\n",
       "      <td>NaN</td>\n",
       "      <td>NaN</td>\n",
       "      <td>453m</td>\n",
       "      <td>RAYp</td>\n",
       "      <td>F2FyR07IdsN7I</td>\n",
       "      <td>NaN</td>\n",
       "      <td>NaN</td>\n",
       "      <td>-1</td>\n",
       "    </tr>\n",
       "    <tr>\n",
       "      <th>26933</th>\n",
       "      <td>26933</td>\n",
       "      <td>NaN</td>\n",
       "      <td>NaN</td>\n",
       "      <td>NaN</td>\n",
       "      <td>NaN</td>\n",
       "      <td>NaN</td>\n",
       "      <td>1008.0</td>\n",
       "      <td>7.0</td>\n",
       "      <td>NaN</td>\n",
       "      <td>NaN</td>\n",
       "      <td>...</td>\n",
       "      <td>Xlg7e4L</td>\n",
       "      <td>LM8l689qOp</td>\n",
       "      <td>NaN</td>\n",
       "      <td>ELof</td>\n",
       "      <td>kwS7</td>\n",
       "      <td>6fzt</td>\n",
       "      <td>4rd_</td>\n",
       "      <td>am7c</td>\n",
       "      <td>NaN</td>\n",
       "      <td>-1</td>\n",
       "    </tr>\n",
       "    <tr>\n",
       "      <th>4269</th>\n",
       "      <td>4269</td>\n",
       "      <td>NaN</td>\n",
       "      <td>NaN</td>\n",
       "      <td>NaN</td>\n",
       "      <td>NaN</td>\n",
       "      <td>NaN</td>\n",
       "      <td>532.0</td>\n",
       "      <td>7.0</td>\n",
       "      <td>NaN</td>\n",
       "      <td>NaN</td>\n",
       "      <td>...</td>\n",
       "      <td>catzS2D</td>\n",
       "      <td>LM8l689qOp</td>\n",
       "      <td>NaN</td>\n",
       "      <td>kG3k</td>\n",
       "      <td>Xa3G</td>\n",
       "      <td>ZI9m</td>\n",
       "      <td>ib5G6X1eUxUn6</td>\n",
       "      <td>NaN</td>\n",
       "      <td>NaN</td>\n",
       "      <td>-1</td>\n",
       "    </tr>\n",
       "    <tr>\n",
       "      <th>15563</th>\n",
       "      <td>15563</td>\n",
       "      <td>NaN</td>\n",
       "      <td>NaN</td>\n",
       "      <td>NaN</td>\n",
       "      <td>NaN</td>\n",
       "      <td>NaN</td>\n",
       "      <td>70.0</td>\n",
       "      <td>7.0</td>\n",
       "      <td>NaN</td>\n",
       "      <td>NaN</td>\n",
       "      <td>...</td>\n",
       "      <td>yUzqFbB</td>\n",
       "      <td>LM8l689qOp</td>\n",
       "      <td>NaN</td>\n",
       "      <td>kG3k</td>\n",
       "      <td>Qu4f</td>\n",
       "      <td>RAYp</td>\n",
       "      <td>F2FyR07IdsN7I</td>\n",
       "      <td>mj86</td>\n",
       "      <td>NaN</td>\n",
       "      <td>-1</td>\n",
       "    </tr>\n",
       "  </tbody>\n",
       "</table>\n",
       "<p>6 rows × 232 columns</p>\n",
       "</div>"
      ],
      "text/plain": [
       "          ID  Var1  Var2  Var3  Var4  Var5    Var6  Var7  Var8  Var9   ...    \\\n",
       "35441  35441   NaN   NaN   NaN   NaN   NaN   826.0   0.0   NaN   NaN   ...     \n",
       "22640  22640   NaN   NaN   NaN   NaN   NaN   602.0   0.0   NaN   NaN   ...     \n",
       "9118    9118   NaN   NaN   NaN   NaN   NaN   175.0   0.0   NaN   NaN   ...     \n",
       "26933  26933   NaN   NaN   NaN   NaN   NaN  1008.0   7.0   NaN   NaN   ...     \n",
       "4269    4269   NaN   NaN   NaN   NaN   NaN   532.0   7.0   NaN   NaN   ...     \n",
       "15563  15563   NaN   NaN   NaN   NaN   NaN    70.0   7.0   NaN   NaN   ...     \n",
       "\n",
       "        Var222      Var223  Var224  Var225  Var226  Var227         Var228  \\\n",
       "35441  93cqqb8  LM8l689qOp     NaN     NaN    Aoh3    RAYp  F2FyR07IdsN7I   \n",
       "22640  hW4EVJ2  LM8l689qOp     NaN     NaN    xb3V    RAYp  F2FyR07IdsN7I   \n",
       "9118   QkgQQMs  LM8l689qOp     NaN     NaN    453m    RAYp  F2FyR07IdsN7I   \n",
       "26933  Xlg7e4L  LM8l689qOp     NaN    ELof    kwS7    6fzt           4rd_   \n",
       "4269   catzS2D  LM8l689qOp     NaN    kG3k    Xa3G    ZI9m  ib5G6X1eUxUn6   \n",
       "15563  yUzqFbB  LM8l689qOp     NaN    kG3k    Qu4f    RAYp  F2FyR07IdsN7I   \n",
       "\n",
       "       Var229  Var230  labels  \n",
       "35441     NaN     NaN      -1  \n",
       "22640     NaN     NaN      -1  \n",
       "9118      NaN     NaN      -1  \n",
       "26933    am7c     NaN      -1  \n",
       "4269      NaN     NaN      -1  \n",
       "15563    mj86     NaN      -1  \n",
       "\n",
       "[6 rows x 232 columns]"
      ]
     },
     "execution_count": 202,
     "metadata": {},
     "output_type": "execute_result"
    }
   ],
   "source": [
    "raw_data.loc[temp_2.sort_values(by='prob_target', ascending=False).index[:3].append(temp_2.sort_values(by='prob_target').index[:3]), :]"
   ]
  },
  {
   "cell_type": "markdown",
   "metadata": {},
   "source": [
    "<font color='green'>Не представляю почему LightGBM так решил, это же не линейная модель, чтобы можно было интуитивно понять что к чему</font>"
   ]
  },
  {
   "cell_type": "markdown",
   "metadata": {},
   "source": [
    "9\\. По итогам проведенных экспериментов постройте финальную решение - модель с наилучшим качеством. Укажите, какие преобразования данных, параметры и пр. вы выбрали для построения финальной модели."
   ]
  },
  {
   "cell_type": "code",
   "execution_count": 203,
   "metadata": {},
   "outputs": [
    {
     "data": {
      "text/plain": [
       "LGBMClassifier(boosting_type='gbdt', class_weight=None, colsample_bytree=0.8,\n",
       "        importance_type='split', learning_rate=0.1, max_depth=3,\n",
       "        metric='auc', min_child_samples=20, min_child_weight=0.001,\n",
       "        min_data_in_leaf=50, min_split_gain=0.0, n_estimators=100,\n",
       "        n_jobs=-1, num_leaves=15, objective=None, random_state=None,\n",
       "        reg_alpha=0.01, reg_lambda=0.0, silent=True, subsample=0.7,\n",
       "        subsample_for_bin=200000, subsample_freq=0)"
      ]
     },
     "execution_count": 203,
     "metadata": {},
     "output_type": "execute_result"
    }
   ],
   "source": [
    "gscv.best_estimator_"
   ]
  },
  {
   "cell_type": "markdown",
   "metadata": {},
   "source": [
    "<font color='green'>Берем все признаки, кроме 100%Nan, пропуски заполняем mean, к категориальным признакам до 10 уникальных значений применяем OneHotEncoding, до 50 значений - LabelEncoder</font>"
   ]
  },
  {
   "cell_type": "markdown",
   "metadata": {},
   "source": [
    "10\\. Подумайте, можно ли еще улучшить модель? Что для этого можно сделать? "
   ]
  },
  {
   "cell_type": "markdown",
   "metadata": {
    "collapsed": true
   },
   "source": [
    "<font color='green'>Собрать больше данных</font>"
   ]
  }
 ],
 "metadata": {
  "kernelspec": {
   "display_name": "Python 3",
   "language": "python",
   "name": "python3"
  },
  "language_info": {
   "codemirror_mode": {
    "name": "ipython",
    "version": 3
   },
   "file_extension": ".py",
   "mimetype": "text/x-python",
   "name": "python",
   "nbconvert_exporter": "python",
   "pygments_lexer": "ipython3",
   "version": "3.6.5"
  }
 },
 "nbformat": 4,
 "nbformat_minor": 1
}
